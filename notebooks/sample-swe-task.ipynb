{
 "cells": [
  {
   "cell_type": "code",
   "execution_count": 1,
   "metadata": {},
   "outputs": [],
   "source": [
    "%load_ext autoreload\n",
    "%autoreload 2\n"
   ]
  },
  {
   "cell_type": "code",
   "execution_count": 2,
   "metadata": {},
   "outputs": [
    {
     "data": {
      "text/plain": [
       "True"
      ]
     },
     "execution_count": 2,
     "metadata": {},
     "output_type": "execute_result"
    }
   ],
   "source": [
    "import os\n",
    "os.environ[\"CUDA_VISIBLE_DEVICES\"] = \"1\"\n",
    "os.environ[\"LLM_AUTH_KEY\"] = \"TEST\"\n",
    "# load env from .env file in ../\n",
    "from dotenv import load_dotenv\n",
    "load_dotenv(dotenv_path=\"../.env\")\n"
   ]
  },
  {
   "cell_type": "code",
   "execution_count": null,
   "metadata": {},
   "outputs": [],
   "source": [
    "# Uncomment this if you want to load a task from the SWEBench dataset\n",
    "# from coding.tasks.swe import SWEBenchTask\n",
    "# from coding.schemas.context import Context\n",
    "# from coding.datasets.swe import SWEBenchDataset\n",
    "# dataset = SWEBenchDataset()\n",
    "# context_dict = dataset.get(n=1)[0]\n",
    "# context = Context(**context_dict)\n",
    "# task = SWEBenchTask(llm=None,context=context)"
   ]
  },
  {
   "cell_type": "code",
   "execution_count": 3,
   "metadata": {},
   "outputs": [
    {
     "name": "stderr",
     "output_type": "stream",
     "text": [
      "/home/bskesse/miniconda3/envs/code311/lib/python3.11/site-packages/tqdm/auto.py:21: TqdmWarning: IProgress not found. Please update jupyter and ipywidgets. See https://ipywidgets.readthedocs.io/en/stable/user_install.html\n",
      "  from .autonotebook import tqdm as notebook_tqdm\n"
     ]
    }
   ],
   "source": [
    "\n",
    "task = SWEBenchTask(llm=None,context=Context(\n",
    "    extras={\"base_commit\": \"336043183333c8078bbd035f5058ef91c5423c30\", \"pull_number\": 77},\n",
    "    title=\"dragnet-org/dragnet\",\n",
    "    content=\"diff --git a/requirements.txt b/requirements.txt\\nindex 15a6934..65d3dcf 100644\\n--- a/requirements.txt\\n+++ b/requirements.txt\\n@@ -2,7 +2,7 @@ nose\\n coverage\\n Cython>=0.21.1\\n lxml\\n-scikit-learn>=0.15.2,<=0.19.2\\n+scikit-learn>=0.15.2,<=0.20\\n numpy\\n scipy\\n ftfy>=4.1.0,<5.0.0\\ndiff --git a/setup.py b/setup.py\\nindex ebed646..366d298 100644\\n--- a/setup.py\\n+++ b/setup.py\\n@@ -98,7 +98,7 @@ def find_libxml2_include():\\n     install_requires=[\\n         'Cython>=0.21.1',\\n         'lxml',\\n-        'scikit-learn>=0.15.2,<=0.19.2',\\n+        'scikit-learn>=0.15.2,<=0.20',\\n         'numpy',\\n         'scipy',\\n         'ftfy>=4.1.0,<5.0.0'\\n\",\n",
    "    topic=\"bump scikit-learn version ceiling to 0.20.1?\\nHi! `dragnet` currently requires `scikit-learn<=0.19.2`, which prevents users from developing alongside the final Py2/3 compatible release of 0.20.1 (see [here](http://scikit-learn.org/dev/whats_new.html#version-0-20-0)). Would you be able to bump the version ceiling and publish a new release? Assuming no version-driven incompatibilities, I _think_ this shouldn't be too much work; you don't have to train new, version-specific models, right?\\nbump scikit-learn version ceiling to 0.20.1?\\nHi! `dragnet` currently requires `scikit-learn<=0.19.2`, which prevents users from developing alongside the final Py2/3 compatible release of 0.20.1 (see [here](http://scikit-learn.org/dev/whats_new.html#version-0-20-0)). Would you be able to bump the version ceiling and publish a new release? Assuming no version-driven incompatibilities, I _think_ this shouldn't be too much work; you don't have to train new, version-specific models, right?\\n\",\n",
    "))"
   ]
  },
  {
   "cell_type": "code",
   "execution_count": 8,
   "metadata": {},
   "outputs": [
    {
     "name": "stdout",
     "output_type": "stream",
     "text": [
      "Searching for relevant files for issue: bump scikit-learn version ceiling to 0.20.1?\n",
      "Hi! `dragnet` currently requires `scikit-learn<=0.19.2`, which prevents users from developing alongside the final Py2/3 compatible release of 0.20.1 (see [here](http://scikit-learn.org/dev/whats_new.html#version-0-20-0)). Would you be able to bump the version ceiling and publish a new release? Assuming no version-driven incompatibilities, I _think_ this shouldn't be too much work; you don't have to train new, version-specific models, right?\n",
      "bump scikit-learn version ceiling to 0.20.1?\n",
      "Hi! `dragnet` currently requires `scikit-learn<=0.19.2`, which prevents users from developing alongside the final Py2/3 compatible release of 0.20.1 (see [here](http://scikit-learn.org/dev/whats_new.html#version-0-20-0)). Would you be able to bump the version ceiling and publish a new release? Assuming no version-driven incompatibilities, I _think_ this shouldn't be too much work; you don't have to train new, version-specific models, right?\n",
      "\n"
     ]
    },
    {
     "name": "stderr",
     "output_type": "stream",
     "text": [
      "2025-01-04 15:43:33,682 - httpx - INFO - HTTP Request: POST https://api.openai.com/v1/chat/completions \"HTTP/1.1 200 OK\"\n"
     ]
    },
    {
     "name": "stdout",
     "output_type": "stream",
     "text": [
      "Found relevant files: ['requirements.txt', 'setup.py']\n",
      "Loading files from directory: /tmp/tmpgod64tjl\n",
      "Loaded 132 files\n",
      "Fixing files...\n"
     ]
    },
    {
     "name": "stderr",
     "output_type": "stream",
     "text": [
      "2025-01-04 15:43:34,736 - httpx - INFO - HTTP Request: POST https://api.openai.com/v1/chat/completions \"HTTP/1.1 200 OK\"\n",
      "2025-01-04 15:43:43,012 - httpx - INFO - HTTP Request: POST https://api.openai.com/v1/chat/completions \"HTTP/1.1 200 OK\"\n"
     ]
    },
    {
     "name": "stdout",
     "output_type": "stream",
     "text": [
      "Fixed 2 files\n",
      "Creating patch...\n",
      "Diff for requirements.txt:\n",
      "--- \n",
      "+++ \n",
      "@@ -1,8 +1,9 @@\n",
      "+File: \n",
      " nose\n",
      " coverage\n",
      " Cython>=0.21.1\n",
      " lxml\n",
      "-scikit-learn>=0.15.2,<=0.19.2\n",
      "+scikit-learn>=0.15.2,<=0.20.1\n",
      " numpy\n",
      " scipy\n",
      " ftfy>=4.1.0,<5.0.0\n",
      "Diff for setup.py:\n",
      "--- \n",
      "+++ \n",
      "@@ -98,7 +98,7 @@\n",
      "     install_requires=[\n",
      "         'Cython>=0.21.1',\n",
      "         'lxml',\n",
      "-        'scikit-learn>=0.15.2,<=0.19.2',\n",
      "+        'scikit-learn>=0.15.2,<=0.20.1',\n",
      "         'numpy',\n",
      "         'scipy',\n",
      "         'ftfy>=4.1.0,<5.0.0'\n",
      "edits [Edit(file_name='setup.py', line_number=101, line_content=\"       'scikit-learn>=0.15.2,<=0.19.2',\", new_line_content=\"       'scikit-learn>=0.15.2,<=0.20.1',\")]\n",
      "Patch created\n"
     ]
    }
   ],
   "source": [
    "import sys\n",
    "sys.path.append(\"example_submission\")\n",
    "from submission import SWE\n",
    "\n",
    "swe = SWE()\n",
    "\n",
    "response = swe(repo_location=task.repo.path, issue_description=task.query)"
   ]
  },
  {
   "cell_type": "code",
   "execution_count": 9,
   "metadata": {},
   "outputs": [
    {
     "name": "stdout",
     "output_type": "stream",
     "text": [
      "valid patch edits=[Edit(file_name='requirements.txt', line_number=5, line_content='scikit-learn>=0.15.2,<=0.19.2', new_line_content=''), Edit(file_name='requirements.txt', line_number=5, line_content='', new_line_content='scikit-learn>=0.15.2,<=0.20'), Edit(file_name='setup.py', line_number=101, line_content=\"'scikit-learn>=0.15.2,<=0.19.2',\", new_line_content=''), Edit(file_name='setup.py', line_number=101, line_content='', new_line_content=\"'scikit-learn>=0.15.2,<=0.20',\")]\n",
      "percent lines in miner 0.25\n",
      "valid chunks [PatchChunk(file_name='requirements.txt', start_index=5, end_index=5, content='scikit-learn>=0.15.2,<=0.19.2', new_content='scikit-learn>=0.15.2,<=0.20'), PatchChunk(file_name='setup.py', start_index=101, end_index=101, content=\"'scikit-learn>=0.15.2,<=0.19.2',\", new_content=\"'scikit-learn>=0.15.2,<=0.20',\")]\n",
      "old miner chunk content        'scikit-learn>=0.15.2,<=0.19.2',\n",
      "old valid chunk content 'scikit-learn>=0.15.2,<=0.19.2',\n",
      "new miner chunk content        'scikit-learn>=0.15.2,<=0.20.1',\n",
      "new valid chunk content 'scikit-learn>=0.15.2,<=0.20',\n",
      "chunk percent 0.5\n"
     ]
    },
    {
     "data": {
      "text/plain": [
       "0.375"
      ]
     },
     "execution_count": 9,
     "metadata": {},
     "output_type": "execute_result"
    }
   ],
   "source": [
    "task.score(response, 0)"
   ]
  }
 ],
 "metadata": {
  "kernelspec": {
   "display_name": "code311",
   "language": "python",
   "name": "python3"
  },
  "language_info": {
   "codemirror_mode": {
    "name": "ipython",
    "version": 3
   },
   "file_extension": ".py",
   "mimetype": "text/x-python",
   "name": "python",
   "nbconvert_exporter": "python",
   "pygments_lexer": "ipython3",
   "version": "3.11.11"
  }
 },
 "nbformat": 4,
 "nbformat_minor": 2
}
